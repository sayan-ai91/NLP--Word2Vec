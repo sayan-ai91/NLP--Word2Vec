{
 "cells": [
  {
   "cell_type": "markdown",
   "metadata": {},
   "source": [
    "# Word2Vec\n",
    "\n",
    "Instead of relying on pre-computed co-occurrence counts, Word2Vec takes 'raw' text as input and learns a word by predicting \n",
    "its surrounding context (in the case of the skip-gram model) or predict a word given its surrounding context \n",
    "(in the case of the cBoW model) using gradient descent with randomly initialized vectors.\n",
    "As an example let us look at the latter case applied to the following sentence.\n",
    "\n",
    "\"The fox jumped over the lazy dog\"\n",
    "\n",
    "Now, we want to learn the word vector for 'over' from its surrounding context, we call this vector vin\n",
    "vin\n",
    ", Word2Vec uses different vectors for word embeddings depending on whether it is the word we are conditioning on or the word we are trying to predict. The probability we are trying to maximize is then:\n",
    "P(vout|vin)\n",
    "P(vout|vin)\n",
    ", where vout\n",
    "vout\n",
    "is the output word and vin\n",
    "vin\n",
    "the input.\n",
    "The algorithm then moves over each word in the corpus and repeats the training step in an online fashion. \n",
    "The interesting property that word vectors obtained this way exhibit is that they encode not only syntactic but also semantic\n",
    "relationships between words. That means that not only are similar words close to each other in the vector space \n",
    "(as measured by some norm), but word analogies are reflected by the difference between word vectors. This property is\n",
    "referred to as 'additive compositionality' in the literature (Mikolov) and refers to the linear structure in the vector\n",
    "space that allows analogical reasoning. Word vectors can be seen as representing the distribution of the context in which\n",
    "a word appears and the sum of vectors roughly represents an AND concatenation, so if for instance 'Volga River' appears in \n",
    "the same context with words like 'river' and 'Russian', the sum of these two word vectors will be close to the \n",
    "vector of \"Volga River\". "
   ]
  },
  {
   "cell_type": "markdown",
   "metadata": {},
   "source": [
    "## Implementation "
   ]
  },
  {
   "cell_type": "code",
   "execution_count": 114,
   "metadata": {},
   "outputs": [],
   "source": [
    "import nltk\n",
    "from gensim.models import Word2Vec\n",
    "from nltk.corpus import stopwords\n",
    "import re"
   ]
  },
  {
   "cell_type": "markdown",
   "metadata": {},
   "source": [
    "# Steve Jobs' Speech In Stanford"
   ]
  },
  {
   "cell_type": "code",
   "execution_count": 115,
   "metadata": {},
   "outputs": [],
   "source": [
    "para = \"\"\"Job’s first story was about connecting the dots.\n",
    "He talked to the graduates about dropping out of college and “dropping in” on courses he wanted to take, like calligraphy, which, at the time, had nothing to do with what he wanted to do with his life. A decade later, he incorporated what he had learned into the design of the Macintosh. It was the first computer with a beautiful typograhy. In the movie Jobs, Steve was so pedantic about typography that he insisted on it being part of the Macintosh design. When his best engineer on the team thought the idea was silly, he was fired on the spot.\n",
    "Typography made me fall in love with Apple products, fonts are everything. Jobs once said, “the design of the iPhone’s buttons has to be so good that users would want to lick them.” And he was right.\n",
    "In Stoicism, everything is opportunity. Sometimes we look back at missed opportunities with regret, but we have to have faith that the dots will connect in the future somehow. Nothing is ever wasted.\n",
    "Roger Federer is one the greatest tennis players in the world. Many people don’t know that he didn’t really like tennis growing up, in fact, his mom was a tennis coach and didn’t want to coach him since he was bad at it. He went on to win the Spanish inter-league championship as a striker, playing football. He also played basketball, badminton, and cricket. Federer didn’t focus on tennis until the age of 12, seven years before winning his first grand slam title at the 2005 French Open.\n",
    "Unlike Tiger Woods who has been playing golf since he was a baby, Roger tried almost any sport that involved a ball and credits all of those sports for enhancing his coordination. These are dots connecting.\n",
    "Love and Loss\n",
    "Jobs’ second story was about love and loss.\n",
    "He recalled falling in love with computers, meeting Steve Woz, building Apple, and getting fired by the Board of Directors. He also recalled how getting fired was the best thing that happened to him at the time, and the only thing that kept him going was loving what he did.\n",
    "He made a huge impact at Apple that, after an eleven year absence, his philosophy still echoed within its corridors. “You’ve got to find what you love.” he said. And let’s not forget the prolific thoughts of Maya Angelou who said, “… pursue the things you love doing and then do them so well that people can’t take their eyes off you.”\n",
    "In hindsight, loving your work doesn’t guarantee impact or success.\n",
    "A study done by Forbes Insights, found that all cases of work being studied shared a single intention — the work was focused on making a difference that someone else would love, instead of the person performing the work. They were focused on the recipient of their work — their customer, their colleague who depends on them, their leader who trusts in them, the community who expects their support, or others who benefit from their work.\n",
    "This is the philosophy that makes Apple a great company, it is customer focused. As was Steve Jobs.\n",
    "Work is love made visible.\n",
    "Death\n",
    "Jobs’ third and final story was about death.\n",
    "“Remembering that are you going to die is the best way I know to avoid the trap thinking you have something to lose. You are already naked. There is no reason not to follow your heart.”\n",
    "I have been mediating on death a lot lately. Not in a sad and gloomy way, but as a reminder that our time on earth is limited. We don’t know when will our lights go out. More important, how will we be remembered.\n",
    "Death calibrates so many things in life. It reminds us that nothing is permanent, that we spend a great deal of time on things that don’t matter. After Jobs learned of his cancer, everything changed. His focus shifted. The first thing he did after returning to Apple was to kill all unnecessary projects. Those who worked with him recall how he was brutally honest, a jerk sometimes, and how focussed his was.\n",
    "Apple products are not only known for their sleek designs but Jobs had a philosophy, which drives Apple to this day, of simplicity and minimalism. When cellphone makers were battling it out with keyboard, iPhone came out with one button. Minimalism can also be seen in how Jobs communicated on emails. No fluff. Say your piece and keep your peace. Nothing more.\n",
    "Steve Jobs saves his call to attention for the end of the speech: “Stay Hungry. Stay Foolish. I have always wished that for myself. And now, as you graduate to begin anew, I wish that for you. Stay Hungry. Stay Foolish.”.\"\"\""
   ]
  },
  {
   "cell_type": "code",
   "execution_count": 116,
   "metadata": {},
   "outputs": [],
   "source": [
    "# Preprocessing the data\n",
    "corpus = re.sub(r'\\[[0-9]*\\]',' ',para)\n",
    "corpus = re.sub(r'\\s+',' ',corpus)\n",
    "corpus = corpus.lower()\n",
    "corpus = re.sub(r'\\d',' ',corpus)\n",
    "corpus = re.sub(r'\\s+',' ',corpus)"
   ]
  },
  {
   "cell_type": "code",
   "execution_count": 117,
   "metadata": {},
   "outputs": [
    {
     "data": {
      "text/plain": [
       "'job’s first story was about connecting the dots. he talked to the graduates about dropping out of college and “dropping in” on courses he wanted to take, like calligraphy, which, at the time, had nothing to do with what he wanted to do with his life. a decade later, he incorporated what he had learned into the design of the macintosh. it was the first computer with a beautiful typograhy. in the movie jobs, steve was so pedantic about typography that he insisted on it being part of the macintosh design. when his best engineer on the team thought the idea was silly, he was fired on the spot. typography made me fall in love with apple products, fonts are everything. jobs once said, “the design of the iphone’s buttons has to be so good that users would want to lick them.” and he was right. in stoicism, everything is opportunity. sometimes we look back at missed opportunities with regret, but we have to have faith that the dots will connect in the future somehow. nothing is ever wasted. roger federer is one the greatest tennis players in the world. many people don’t know that he didn’t really like tennis growing up, in fact, his mom was a tennis coach and didn’t want to coach him since he was bad at it. he went on to win the spanish inter-league championship as a striker, playing football. he also played basketball, badminton, and cricket. federer didn’t focus on tennis until the age of , seven years before winning his first grand slam title at the french open. unlike tiger woods who has been playing golf since he was a baby, roger tried almost any sport that involved a ball and credits all of those sports for enhancing his coordination. these are dots connecting. love and loss jobs’ second story was about love and loss. he recalled falling in love with computers, meeting steve woz, building apple, and getting fired by the board of directors. he also recalled how getting fired was the best thing that happened to him at the time, and the only thing that kept him going was loving what he did. he made a huge impact at apple that, after an eleven year absence, his philosophy still echoed within its corridors. “you’ve got to find what you love.” he said. and let’s not forget the prolific thoughts of maya angelou who said, “… pursue the things you love doing and then do them so well that people can’t take their eyes off you.” in hindsight, loving your work doesn’t guarantee impact or success. a study done by forbes insights, found that all cases of work being studied shared a single intention — the work was focused on making a difference that someone else would love, instead of the person performing the work. they were focused on the recipient of their work — their customer, their colleague who depends on them, their leader who trusts in them, the community who expects their support, or others who benefit from their work. this is the philosophy that makes apple a great company, it is customer focused. as was steve jobs. work is love made visible. death jobs’ third and final story was about death. “remembering that are you going to die is the best way i know to avoid the trap thinking you have something to lose. you are already naked. there is no reason not to follow your heart.” i have been mediating on death a lot lately. not in a sad and gloomy way, but as a reminder that our time on earth is limited. we don’t know when will our lights go out. more important, how will we be remembered. death calibrates so many things in life. it reminds us that nothing is permanent, that we spend a great deal of time on things that don’t matter. after jobs learned of his cancer, everything changed. his focus shifted. the first thing he did after returning to apple was to kill all unnecessary projects. those who worked with him recall how he was brutally honest, a jerk sometimes, and how focussed his was. apple products are not only known for their sleek designs but jobs had a philosophy, which drives apple to this day, of simplicity and minimalism. when cellphone makers were battling it out with keyboard, iphone came out with one button. minimalism can also be seen in how jobs communicated on emails. no fluff. say your piece and keep your peace. nothing more. steve jobs saves his call to attention for the end of the speech: “stay hungry. stay foolish. i have always wished that for myself. and now, as you graduate to begin anew, i wish that for you. stay hungry. stay foolish.”.'"
      ]
     },
     "execution_count": 117,
     "metadata": {},
     "output_type": "execute_result"
    }
   ],
   "source": [
    "corpus"
   ]
  },
  {
   "cell_type": "code",
   "execution_count": 118,
   "metadata": {},
   "outputs": [
    {
     "data": {
      "text/plain": [
       "['job’s first story was about connecting the dots.',\n",
       " 'he talked to the graduates about dropping out of college and “dropping in” on courses he wanted to take, like calligraphy, which, at the time, had nothing to do with what he wanted to do with his life.',\n",
       " 'a decade later, he incorporated what he had learned into the design of the macintosh.',\n",
       " 'it was the first computer with a beautiful typograhy.',\n",
       " 'in the movie jobs, steve was so pedantic about typography that he insisted on it being part of the macintosh design.',\n",
       " 'when his best engineer on the team thought the idea was silly, he was fired on the spot.',\n",
       " 'typography made me fall in love with apple products, fonts are everything.',\n",
       " 'jobs once said, “the design of the iphone’s buttons has to be so good that users would want to lick them.” and he was right.',\n",
       " 'in stoicism, everything is opportunity.',\n",
       " 'sometimes we look back at missed opportunities with regret, but we have to have faith that the dots will connect in the future somehow.',\n",
       " 'nothing is ever wasted.',\n",
       " 'roger federer is one the greatest tennis players in the world.',\n",
       " 'many people don’t know that he didn’t really like tennis growing up, in fact, his mom was a tennis coach and didn’t want to coach him since he was bad at it.',\n",
       " 'he went on to win the spanish inter-league championship as a striker, playing football.',\n",
       " 'he also played basketball, badminton, and cricket.',\n",
       " 'federer didn’t focus on tennis until the age of , seven years before winning his first grand slam title at the french open.',\n",
       " 'unlike tiger woods who has been playing golf since he was a baby, roger tried almost any sport that involved a ball and credits all of those sports for enhancing his coordination.',\n",
       " 'these are dots connecting.',\n",
       " 'love and loss jobs’ second story was about love and loss.',\n",
       " 'he recalled falling in love with computers, meeting steve woz, building apple, and getting fired by the board of directors.',\n",
       " 'he also recalled how getting fired was the best thing that happened to him at the time, and the only thing that kept him going was loving what he did.',\n",
       " 'he made a huge impact at apple that, after an eleven year absence, his philosophy still echoed within its corridors.',\n",
       " '“you’ve got to find what you love.” he said.',\n",
       " 'and let’s not forget the prolific thoughts of maya angelou who said, “… pursue the things you love doing and then do them so well that people can’t take their eyes off you.” in hindsight, loving your work doesn’t guarantee impact or success.',\n",
       " 'a study done by forbes insights, found that all cases of work being studied shared a single intention — the work was focused on making a difference that someone else would love, instead of the person performing the work.',\n",
       " 'they were focused on the recipient of their work — their customer, their colleague who depends on them, their leader who trusts in them, the community who expects their support, or others who benefit from their work.',\n",
       " 'this is the philosophy that makes apple a great company, it is customer focused.',\n",
       " 'as was steve jobs.',\n",
       " 'work is love made visible.',\n",
       " 'death jobs’ third and final story was about death.',\n",
       " '“remembering that are you going to die is the best way i know to avoid the trap thinking you have something to lose.',\n",
       " 'you are already naked.',\n",
       " 'there is no reason not to follow your heart.” i have been mediating on death a lot lately.',\n",
       " 'not in a sad and gloomy way, but as a reminder that our time on earth is limited.',\n",
       " 'we don’t know when will our lights go out.',\n",
       " 'more important, how will we be remembered.',\n",
       " 'death calibrates so many things in life.',\n",
       " 'it reminds us that nothing is permanent, that we spend a great deal of time on things that don’t matter.',\n",
       " 'after jobs learned of his cancer, everything changed.',\n",
       " 'his focus shifted.',\n",
       " 'the first thing he did after returning to apple was to kill all unnecessary projects.',\n",
       " 'those who worked with him recall how he was brutally honest, a jerk sometimes, and how focussed his was.',\n",
       " 'apple products are not only known for their sleek designs but jobs had a philosophy, which drives apple to this day, of simplicity and minimalism.',\n",
       " 'when cellphone makers were battling it out with keyboard, iphone came out with one button.',\n",
       " 'minimalism can also be seen in how jobs communicated on emails.',\n",
       " 'no fluff.',\n",
       " 'say your piece and keep your peace.',\n",
       " 'nothing more.',\n",
       " 'steve jobs saves his call to attention for the end of the speech: “stay hungry.',\n",
       " 'stay foolish.',\n",
       " 'i have always wished that for myself.',\n",
       " 'and now, as you graduate to begin anew, i wish that for you.',\n",
       " 'stay hungry.',\n",
       " 'stay foolish.”.']"
      ]
     },
     "execution_count": 118,
     "metadata": {},
     "output_type": "execute_result"
    }
   ],
   "source": [
    "## sentence tokenizer...\n",
    "sent= nltk.sent_tokenize(corpus)\n",
    "sent\n"
   ]
  },
  {
   "cell_type": "code",
   "execution_count": 119,
   "metadata": {},
   "outputs": [],
   "source": [
    "sent = [nltk.word_tokenize(i) for i in sent]"
   ]
  },
  {
   "cell_type": "code",
   "execution_count": 120,
   "metadata": {},
   "outputs": [
    {
     "data": {
      "text/plain": [
       "[['job',\n",
       "  '’',\n",
       "  's',\n",
       "  'first',\n",
       "  'story',\n",
       "  'was',\n",
       "  'about',\n",
       "  'connecting',\n",
       "  'the',\n",
       "  'dots',\n",
       "  '.'],\n",
       " ['he',\n",
       "  'talked',\n",
       "  'to',\n",
       "  'the',\n",
       "  'graduates',\n",
       "  'about',\n",
       "  'dropping',\n",
       "  'out',\n",
       "  'of',\n",
       "  'college',\n",
       "  'and',\n",
       "  '“',\n",
       "  'dropping',\n",
       "  'in',\n",
       "  '”',\n",
       "  'on',\n",
       "  'courses',\n",
       "  'he',\n",
       "  'wanted',\n",
       "  'to',\n",
       "  'take',\n",
       "  ',',\n",
       "  'like',\n",
       "  'calligraphy',\n",
       "  ',',\n",
       "  'which',\n",
       "  ',',\n",
       "  'at',\n",
       "  'the',\n",
       "  'time',\n",
       "  ',',\n",
       "  'had',\n",
       "  'nothing',\n",
       "  'to',\n",
       "  'do',\n",
       "  'with',\n",
       "  'what',\n",
       "  'he',\n",
       "  'wanted',\n",
       "  'to',\n",
       "  'do',\n",
       "  'with',\n",
       "  'his',\n",
       "  'life',\n",
       "  '.']]"
      ]
     },
     "execution_count": 120,
     "metadata": {},
     "output_type": "execute_result"
    }
   ],
   "source": [
    "sent[:2]"
   ]
  },
  {
   "cell_type": "code",
   "execution_count": 121,
   "metadata": {},
   "outputs": [],
   "source": [
    "##remove stopwords\n",
    "for i in range(len(sent)):\n",
    "     sent[i] = [word for word in sent[i] if word not in stopwords.words('english')]"
   ]
  },
  {
   "cell_type": "code",
   "execution_count": 122,
   "metadata": {},
   "outputs": [
    {
     "data": {
      "text/plain": [
       "[['job', '’', 'first', 'story', 'connecting', 'dots', '.'],\n",
       " ['talked',\n",
       "  'graduates',\n",
       "  'dropping',\n",
       "  'college',\n",
       "  '“',\n",
       "  'dropping',\n",
       "  '”',\n",
       "  'courses',\n",
       "  'wanted',\n",
       "  'take',\n",
       "  ',',\n",
       "  'like',\n",
       "  'calligraphy',\n",
       "  ',',\n",
       "  ',',\n",
       "  'time',\n",
       "  ',',\n",
       "  'nothing',\n",
       "  'wanted',\n",
       "  'life',\n",
       "  '.']]"
      ]
     },
     "execution_count": 122,
     "metadata": {},
     "output_type": "execute_result"
    }
   ],
   "source": [
    "sent[:2]"
   ]
  },
  {
   "cell_type": "code",
   "execution_count": 123,
   "metadata": {},
   "outputs": [],
   "source": [
    "## Lemmatization...\n",
    "from nltk.stem import WordNetLemmatizer\n",
    "lemmatizer= WordNetLemmatizer()\n",
    "\n",
    "for i in range(len(sent)):\n",
    "     sent[i] = [lemmatizer.lemmatize(i) for i in sent[i]]"
   ]
  },
  {
   "cell_type": "code",
   "execution_count": 124,
   "metadata": {},
   "outputs": [
    {
     "data": {
      "text/plain": [
       "[['talked',\n",
       "  'graduate',\n",
       "  'dropping',\n",
       "  'college',\n",
       "  '“',\n",
       "  'dropping',\n",
       "  '”',\n",
       "  'course',\n",
       "  'wanted',\n",
       "  'take',\n",
       "  ',',\n",
       "  'like',\n",
       "  'calligraphy',\n",
       "  ',',\n",
       "  ',',\n",
       "  'time',\n",
       "  ',',\n",
       "  'nothing',\n",
       "  'wanted',\n",
       "  'life',\n",
       "  '.'],\n",
       " ['decade',\n",
       "  'later',\n",
       "  ',',\n",
       "  'incorporated',\n",
       "  'learned',\n",
       "  'design',\n",
       "  'macintosh',\n",
       "  '.']]"
      ]
     },
     "execution_count": 124,
     "metadata": {},
     "output_type": "execute_result"
    }
   ],
   "source": [
    "sent[1:3]"
   ]
  },
  {
   "cell_type": "code",
   "execution_count": 125,
   "metadata": {},
   "outputs": [],
   "source": [
    "w2v_model= Word2Vec(sent,  min_count=1) ## min_counts find occurence of word"
   ]
  },
  {
   "cell_type": "code",
   "execution_count": 126,
   "metadata": {},
   "outputs": [],
   "source": [
    "words=w2v_model.wv.vocab"
   ]
  },
  {
   "cell_type": "code",
   "execution_count": 127,
   "metadata": {},
   "outputs": [
    {
     "data": {
      "text/plain": [
       "285"
      ]
     },
     "execution_count": 127,
     "metadata": {},
     "output_type": "execute_result"
    }
   ],
   "source": [
    "len(words)"
   ]
  },
  {
   "cell_type": "code",
   "execution_count": 128,
   "metadata": {},
   "outputs": [
    {
     "data": {
      "text/plain": [
       "array([-2.58538779e-03, -2.11863942e-03, -3.70551297e-03,  1.39855198e-03,\n",
       "        4.70542861e-03,  7.59585004e-04, -4.60192841e-03, -3.40852188e-03,\n",
       "        2.58458033e-03,  2.42529204e-03, -2.93863053e-03,  4.58041113e-03,\n",
       "        1.78027840e-03, -1.76313391e-04,  3.77977313e-03, -1.59371455e-04,\n",
       "       -3.04354960e-03, -2.21502967e-03, -4.08910401e-03, -2.05423939e-03,\n",
       "        2.50410638e-03, -2.47312011e-03,  4.21752082e-03, -1.18382368e-03,\n",
       "       -8.16729560e-04,  4.64993855e-03,  3.54476739e-03, -3.39434342e-03,\n",
       "       -1.26178667e-03,  3.71288275e-03, -3.04459641e-03,  2.79450393e-03,\n",
       "        2.64187669e-03,  4.16286429e-03,  3.14399973e-03, -3.69941653e-03,\n",
       "        4.05399315e-03, -1.94639631e-03, -3.88599979e-03,  3.71220085e-04,\n",
       "        2.51882221e-03, -7.32240325e-04, -2.10951269e-03, -4.58331604e-04,\n",
       "       -4.03513387e-03, -4.58720559e-03, -8.49693373e-04, -2.65549636e-03,\n",
       "        1.07225194e-03, -4.05139569e-03, -3.49623756e-03,  2.52786279e-03,\n",
       "       -3.49534466e-03,  3.82790295e-03,  1.30532961e-03, -1.54659140e-03,\n",
       "        4.27112589e-03, -3.35042155e-03, -2.63568340e-03, -3.98147805e-03,\n",
       "        3.70579725e-03, -3.29036452e-03,  1.59264950e-03, -8.55154125e-04,\n",
       "       -2.89671705e-03,  2.35883263e-03, -4.69226623e-03, -2.62923725e-03,\n",
       "       -2.78766779e-03,  2.00212198e-05, -4.68152482e-03,  2.31811008e-03,\n",
       "       -7.88953097e-04,  1.02660176e-03,  3.85358999e-03, -3.42860026e-03,\n",
       "        2.04183767e-03, -2.85256654e-03,  3.53576313e-03, -6.75262709e-04,\n",
       "       -1.99529785e-03,  2.99543631e-03, -1.24955678e-03,  3.14427959e-03,\n",
       "        1.73491042e-03,  3.97870969e-03, -9.83765232e-04,  4.90601081e-03,\n",
       "       -2.90210846e-05, -2.99799116e-03, -4.81388438e-03,  4.88662906e-03,\n",
       "        5.82661072e-04, -1.40497764e-03, -4.70275898e-03, -7.93011859e-04,\n",
       "        2.70994892e-03, -1.09616085e-04, -2.21598195e-03,  1.92124327e-03],\n",
       "      dtype=float32)"
      ]
     },
     "execution_count": 128,
     "metadata": {},
     "output_type": "execute_result"
    }
   ],
   "source": [
    "# Finding Word Vectors\n",
    "vector =w2v_model.wv['decade']\n",
    "vector ## with 100 dimensions"
   ]
  },
  {
   "cell_type": "code",
   "execution_count": 129,
   "metadata": {},
   "outputs": [],
   "source": [
    "cap_similariity= w2v_model.wv.most_similar('decade')"
   ]
  },
  {
   "cell_type": "code",
   "execution_count": 130,
   "metadata": {},
   "outputs": [
    {
     "data": {
      "text/plain": [
       "[('follow', 0.29708123207092285),\n",
       " ('user', 0.2543463706970215),\n",
       " ('macintosh', 0.24056144058704376),\n",
       " ('button', 0.23258930444717407),\n",
       " ('love', 0.2320091426372528),\n",
       " ('worked', 0.21800382435321808),\n",
       " ('performing', 0.21093666553497314),\n",
       " ('fluff', 0.20520809292793274),\n",
       " ('else', 0.18994814157485962),\n",
       " (',', 0.18918977677822113)]"
      ]
     },
     "execution_count": 130,
     "metadata": {},
     "output_type": "execute_result"
    }
   ],
   "source": [
    "cap_similariity"
   ]
  },
  {
   "cell_type": "code",
   "execution_count": 132,
   "metadata": {},
   "outputs": [
    {
     "data": {
      "text/plain": [
       "[('typography', 0.2253848910331726),\n",
       " ('simplicity', 0.21713969111442566),\n",
       " ('job', 0.2087312787771225),\n",
       " ('others', 0.20427215099334717),\n",
       " ('study', 0.1959155797958374),\n",
       " ('you.', 0.19486233592033386),\n",
       " ('already', 0.18627208471298218),\n",
       " ('day', 0.18533962965011597),\n",
       " ('absence', 0.17194335162639618),\n",
       " ('dot', 0.16743800044059753)]"
      ]
     },
     "execution_count": 132,
     "metadata": {},
     "output_type": "execute_result"
    }
   ],
   "source": [
    "cap_similariity= w2v_model.wv.most_similar('learned')\n",
    "cap_similariity"
   ]
  },
  {
   "cell_type": "markdown",
   "metadata": {},
   "source": []
  }
 ],
 "metadata": {
  "kernelspec": {
   "display_name": "Python 3",
   "language": "python",
   "name": "python3"
  },
  "language_info": {
   "codemirror_mode": {
    "name": "ipython",
    "version": 3
   },
   "file_extension": ".py",
   "mimetype": "text/x-python",
   "name": "python",
   "nbconvert_exporter": "python",
   "pygments_lexer": "ipython3",
   "version": "3.7.4"
  }
 },
 "nbformat": 4,
 "nbformat_minor": 4
}
